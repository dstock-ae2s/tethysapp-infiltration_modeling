{
 "cells": [
  {
   "cell_type": "code",
   "execution_count": 1,
   "metadata": {},
   "outputs": [],
   "source": [
    "# Import statements\n",
    "import arcpy\n",
    "import os\n",
    "import shutil\n",
    "import gc\n",
    "arcpy.env.overwriteOutput = True"
   ]
  },
  {
   "cell_type": "markdown",
   "metadata": {},
   "source": [
    "This tool uses soil data, landcover data, and watershed outlines to calculate curve numbers and impervious areas for use in infiltration calculations.\n",
    "\n",
    "Soil data can be downloaded from the web soil survey or SSURGO (https://www.arcgis.com/apps/View/index.html?appid=cdc49bd63ea54dd2977f3f2853e07fff) and landcover data can be obtained from the NLCD."
   ]
  },
  {
   "cell_type": "code",
   "execution_count": null,
   "metadata": {},
   "outputs": [],
   "source": [
    "# File paths\n",
    "landcover_full = r'F:\\PyForGIS\\FinalProject\\BismarckSubWS\\Full_Buildout_Land_Use.shp'\n",
    "soils_full = r'F:\\PyForGIS\\FinalProject\\BismarckSubWS\\soildata.shp'\n",
    "subwatersheds = r'F:\\PyForGIS\\FinalProject\\BismarckSubWS\\subcatchments.shp'\n",
    "workspace = r'F:\\PyForGIS\\FinalProject\\BismarckSubWS'\n",
    "output = r'F:\\PyForGIS\\FinalProject\\BismarckSubWS\\subcatchments_ga.shp'"
   ]
  },
  {
   "cell_type": "code",
   "execution_count": null,
   "metadata": {},
   "outputs": [],
   "source": [
    "# Variables\n",
    "ksat_field = \"ksat\"\n",
    "init_sm_field=\"theta_init\"\n",
    "csuct_filed=\"cap_suct\""
   ]
  },
  {
   "cell_type": "code",
   "execution_count": null,
   "metadata": {},
   "outputs": [],
   "source": [
    "# Intermediate file names\n",
    "temp_folder = os.path.join(workspace, \"Scratch\")\n",
    "arcpy.env.scratchWorkspace = temp_folder\n",
    "landcover = os.path.join(temp_folder, \"landcover.shp\")\n",
    "soils = os.path.join(temp_folder, \"soils.shp\")\n",
    "soils_dissolved = os.path.join(temp_folder, \"soilsdissolved.shp\")\n",
    "intersected_catchments = os.path.join(temp_folder, \"intws.shp\")\n",
    "intersected_catchments2 = os.path.join(temp_folder, \"intwslc.shp\")\n",
    "dissolved_catchments = os.path.join(temp_folder, \"dissws.shp\")"
   ]
  },
  {
   "cell_type": "code",
   "execution_count": null,
   "metadata": {},
   "outputs": [],
   "source": [
    "# Create scratch folder\n",
    "try:\n",
    "    os.mkdir(temp_folder)\n",
    "except:\n",
    "    print(\"Scratch folder exists\")"
   ]
  },
  {
   "cell_type": "markdown",
   "metadata": {},
   "source": [
    "# Clip land cover and soil data"
   ]
  },
  {
   "cell_type": "code",
   "execution_count": null,
   "metadata": {},
   "outputs": [],
   "source": [
    "arcpy.Clip_analysis(in_features=soils_full, clip_features=subwatersheds, out_feature_class=soils)\n",
    "arcpy.Clip_analysis(in_features=landcover_full, clip_features=subwatersheds, out_feature_class=landcover)"
   ]
  },
  {
   "cell_type": "markdown",
   "metadata": {},
   "source": [
    "# Add an ID field to subcatchments for joins"
   ]
  },
  {
   "cell_type": "code",
   "execution_count": null,
   "metadata": {},
   "outputs": [],
   "source": [
    "arcpy.AddField_management(in_table=subwatersheds, field_name=\"WSID\", field_type=\"LONG\", field_precision=10)\n",
    "arcpy.CalculateField_management(in_table=subwatersheds, field=\"WSID\", expression=\"!FID!\", expression_type=\"PYTHON3\")"
   ]
  },
  {
   "cell_type": "markdown",
   "metadata": {},
   "source": [
    "# Add an area field for each subcatchment"
   ]
  },
  {
   "cell_type": "code",
   "execution_count": null,
   "metadata": {},
   "outputs": [],
   "source": [
    "arcpy.AddGeometryAttributes_management(Input_Features=subwatersheds, Geometry_Properties=\"AREA\", Area_Unit=\"ACRES\")\n",
    "arcpy.AddField_management(in_table=subwatersheds, field_name=\"SUB_AREA\", field_type=\"DOUBLE\", field_precision=6)\n",
    "arcpy.CalculateField_management(in_table=subwatersheds, field=\"SUB_AREA\", expression=\"!POLY_AREA!\", expression_type=\"PYTHON3\")"
   ]
  },
  {
   "cell_type": "markdown",
   "metadata": {},
   "source": [
    "# Dissolve soils"
   ]
  },
  {
   "cell_type": "code",
   "execution_count": null,
   "metadata": {},
   "outputs": [],
   "source": [
    "# For rows with two hydrologic soil groups, keep the most stringent\n",
    "with arcpy.da.UpdateCursor(in_table=soils, field_names=[hsg_field]) as cursor:\n",
    "    for row in cursor:\n",
    "        if len(row[0])>1:\n",
    "            print(row[0])\n",
    "            row[0] = str(row[0])[-1]\n",
    "            print(row[0])\n",
    "            cursor.updateRow(row)\n",
    "# Dissolve soils based on HSG\n",
    "arcpy.Dissolve_management(in_features=soils, out_feature_class=soils_dissolved, dissolve_field=hsg_field, multi_part=\"MULTI_PART\")"
   ]
  },
  {
   "cell_type": "markdown",
   "metadata": {},
   "source": [
    "# Intersect Soils, Landcover, and Subwatersheds"
   ]
  },
  {
   "cell_type": "code",
   "execution_count": null,
   "metadata": {},
   "outputs": [],
   "source": [
    "arcpy.Intersect_analysis(in_features=[subwatersheds, soils_dissolved], out_feature_class=intersected_catchments)\n",
    "arcpy.Intersect_analysis(in_features=[subwatersheds, landcover], out_feature_class=intersected_catchments2)"
   ]
  },
  {
   "cell_type": "markdown",
   "metadata": {},
   "source": [
    "# Calculated weighted soil criteria"
   ]
  },
  {
   "cell_type": "code",
   "execution_count": null,
   "metadata": {},
   "outputs": [],
   "source": [
    "# Add area weighted initial soil moisture content\n",
    "arcpy.management.AddField(in_table=intersected_catchments, field_name=\"Init_SM\", field_type=\"DOUBLE\", field_precision=4)\n",
    "# Add area weighted capillary suction head field\n",
    "arcpy.management.AddField(in_table=intersected_catchments, field_name=\"C_Suction\", field_type=\"DOUBLE\", field_precision=4)\n",
    "# Add area weighted hydraulic conductivity field\n",
    "arcpy.management.AddField(in_table=intersected_catchments, field_name=\"HK\", field_type=\"DOUBLE\", field_precision=4)\n",
    "# Add an area for each intersection\n",
    "arcpy.AddGeometryAttributes_management(Input_Features=intersected_catchments, Geometry_Properties=\"AREA\", Area_Unit=\"ACRES\")\n",
    "\n",
    "# Calculate area weighted hydraulic conductivity field\n",
    "arcpy.CalculateField_management(in_table=intersected_catchments, field=\"HK\", expression=\"!\"+ksat_field+\"!*!POLY_AREA!/!SUB_AREA!\", expression_type=\"PYTHON3\")\n",
    "# Calculate area weighted initial soil moisture field\n",
    "arcpy.CalculateField_management(in_table=intersected_catchments, field=\"Init_SM\", expression=\"!\"+init_sm_field+\"!*!POLY_AREA!/!SUB_AREA!\", expression_type=\"PYTHON3\")\n",
    "# Calculate area weighted capillary suction head field\n",
    "arcpy.CalculateField_management(in_table=intersected_catchments, field=\"C_Suction\", expression=\"!\"+csuct_field+\"!*!POLY_AREA!/!SUB_AREA!\", expression_type=\"PYTHON3\")"
   ]
  },
  {
   "cell_type": "markdown",
   "metadata": {},
   "source": [
    "# Dissolve"
   ]
  },
  {
   "cell_type": "code",
   "execution_count": null,
   "metadata": {},
   "outputs": [],
   "source": [
    "arcpy.management.Dissolve(in_features=intersected_catchments, out_feature_class=soils_dissolved, dissolve_field=[\"WSID\"], statistics_fields=[[\"HK\", \"SUM\"], [\"Init_SM\", \"SUM\"], [\"C_Suction\", \"SUM\"]], multi_part=\"MULTI_PART\", unsplit_lines=\"DISSOLVE_LINES\")"
   ]
  }
 ],
 "metadata": {
  "kernelspec": {
   "display_name": "Python 3",
   "language": "python",
   "name": "python3"
  },
  "language_info": {
   "codemirror_mode": {
    "name": "ipython",
    "version": 3
   },
   "file_extension": ".py",
   "mimetype": "text/x-python",
   "name": "python",
   "nbconvert_exporter": "python",
   "pygments_lexer": "ipython3",
   "version": "3.6.10"
  }
 },
 "nbformat": 4,
 "nbformat_minor": 4
}
