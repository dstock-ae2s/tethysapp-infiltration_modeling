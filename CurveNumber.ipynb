{
 "cells": [
  {
   "cell_type": "code",
   "execution_count": 1,
   "metadata": {},
   "outputs": [],
   "source": [
    "# Import statements\n",
    "import arcpy\n",
    "import os\n",
    "import shutil\n",
    "import gc\n",
    "arcpy.env.overwriteOutput = True"
   ]
  },
  {
   "cell_type": "markdown",
   "metadata": {},
   "source": [
    "This tool uses soil data, landcover data, and watershed outlines to calculate curve numbers and impervious areas for use in infiltration calculations.\n",
    "\n",
    "Soil data can be downloaded from the web soil survey or SSURGO (https://www.arcgis.com/apps/View/index.html?appid=cdc49bd63ea54dd2977f3f2853e07fff) and landcover data can be obtained from the NLCD."
   ]
  },
  {
   "cell_type": "markdown",
   "metadata": {},
   "source": [
    "# File paths"
   ]
  },
  {
   "cell_type": "code",
   "execution_count": 2,
   "metadata": {},
   "outputs": [],
   "source": [
    "landcover_full = r'F:\\PyForGIS\\FinalProject\\BismarckSubWS\\Full_Buildout_Land_Use.shp'\n",
    "soils_full = r'F:\\PyForGIS\\FinalProject\\BismarckSubWS\\soildata.shp'\n",
    "subwatersheds = r'F:\\PyForGIS\\FinalProject\\BismarckSubWS\\subcatchments.shp'\n",
    "workspace = r'F:\\PyForGIS\\FinalProject\\BismarckSubWS'\n",
    "output = r'F:\\PyForGIS\\FinalProject\\BismarckSubWS\\subcatchments_cn.shp'"
   ]
  },
  {
   "cell_type": "code",
   "execution_count": 15,
   "metadata": {},
   "outputs": [],
   "source": [
    "# Variables\n",
    "hsg_field = \"hydgrpdcd\"\n",
    "lu_field=\"ZONE_\"\n",
    "cn_field=\"CN\"\n",
    "pimperv_field=\"P_Imperv\"\n",
    "area_field = \"POLY_AREA\"\n",
    "cnarea_field = \"CNAREA\"\n",
    "impervarea_field=\"IpArea\"\n",
    "totalcn_field = \"CN_Total\"\n",
    "totalpimperv_field=\"PercImperv\"\n",
    "totalarea_field=\"Area_ac\"\n",
    "\n",
    "sumcnarea = \"SUM_\" + cnarea_field[0:6]\n",
    "sumiparea= \"SUM_\" + impervarea_field[0:6]\n",
    "sumpolyarea = \"SUM_\" + area_field[0:6]\n",
    "\n",
    "# Curve number assignment [[zone, CN for HSG A, CN for HSG B, CN for HSG C, %Impervious]]\n",
    "cn_assignment = [[\"A\",61,74,80,35],[\"CG\",92,94,95,85],\n",
    "                 [\"P\",69,79,84,0],[\"PUD\",85,90,92,90],\n",
    "                 [\"R5\",75,83,87,35],[\"R10\",85,90,92,50],\n",
    "                 [\"RMH\",85,90,92,50],[\"RR\",68,79,84,12],\n",
    "                 [\"RT\",92,94,95,75], [\"ROW\", 98,98,98,98]]"
   ]
  },
  {
   "cell_type": "code",
   "execution_count": 4,
   "metadata": {},
   "outputs": [],
   "source": [
    "# Intermediate file names\n",
    "temp_folder = os.path.join(workspace, \"Scratch\")\n",
    "arcpy.env.scratchWorkspace = temp_folder\n",
    "landcover = os.path.join(temp_folder, \"landcover.shp\")\n",
    "soils = os.path.join(temp_folder, \"soils.shp\")\n",
    "soils_dissolved = os.path.join(temp_folder, \"soilsdissolved.shp\")\n",
    "intersected_catchments = os.path.join(temp_folder, \"intws.shp\")\n",
    "intersected_catchments2 = os.path.join(temp_folder, \"intwslc.shp\")\n",
    "dissolved_catchments = os.path.join(temp_folder, \"dissws.shp\")"
   ]
  },
  {
   "cell_type": "code",
   "execution_count": 5,
   "metadata": {},
   "outputs": [],
   "source": [
    "# Create scratch folder\n",
    "try:\n",
    "    os.mkdir(temp_folder)\n",
    "except:\n",
    "    print(\"Scratch folder exists\")"
   ]
  },
  {
   "cell_type": "markdown",
   "metadata": {},
   "source": [
    "# Clip landcover and soils"
   ]
  },
  {
   "cell_type": "code",
   "execution_count": 6,
   "metadata": {},
   "outputs": [
    {
     "data": {
      "text/html": [
       "<h2>Output</h2>F:\\PyForGIS\\FinalProject\\BismarckSubWS\\Scratch\\landcover.shp<h2>Messages</h2>Start Time: Friday, December 11, 2020 12:56:27 PM<br/>Reading Features...<br/>Cracking Features...<br/>Assembling Features...<br/>Succeeded at Friday, December 11, 2020 12:56:27 PM (Elapsed Time: 0.21 seconds)<br/><style>.rendered_html td, .rendered_html th {text-align: left;}.rendered_html tbody {border: 1px solid black;}</style>"
      ],
      "text/plain": [
       "<Result 'F:\\\\PyForGIS\\\\FinalProject\\\\BismarckSubWS\\\\Scratch\\\\landcover.shp'>"
      ]
     },
     "execution_count": 6,
     "metadata": {},
     "output_type": "execute_result"
    }
   ],
   "source": [
    "arcpy.Clip_analysis(in_features=soils_full, clip_features=subwatersheds, out_feature_class=soils)\n",
    "arcpy.Clip_analysis(in_features=landcover_full, clip_features=subwatersheds, out_feature_class=landcover)"
   ]
  },
  {
   "cell_type": "markdown",
   "metadata": {},
   "source": [
    "# Add an ID field to subcatchments for joins"
   ]
  },
  {
   "cell_type": "code",
   "execution_count": 7,
   "metadata": {},
   "outputs": [
    {
     "data": {
      "text/html": [
       "<h2>Output</h2>F:\\PyForGIS\\FinalProject\\BismarckSubWS\\subcatchments.shp<h2>Messages</h2>Start Time: Friday, December 11, 2020 12:56:28 PM<br/>Succeeded at Friday, December 11, 2020 12:56:28 PM (Elapsed Time: 0.04 seconds)<br/><style>.rendered_html td, .rendered_html th {text-align: left;}.rendered_html tbody {border: 1px solid black;}</style>"
      ],
      "text/plain": [
       "<Result 'F:\\\\PyForGIS\\\\FinalProject\\\\BismarckSubWS\\\\subcatchments.shp'>"
      ]
     },
     "execution_count": 7,
     "metadata": {},
     "output_type": "execute_result"
    }
   ],
   "source": [
    "arcpy.AddField_management(in_table=subwatersheds, field_name=\"WSID\", field_type=\"LONG\", field_precision=10)\n",
    "arcpy.CalculateField_management(in_table=subwatersheds, field=\"WSID\", expression=\"!FID!\", expression_type=\"PYTHON3\")"
   ]
  },
  {
   "cell_type": "markdown",
   "metadata": {},
   "source": [
    "# Dissolve soils"
   ]
  },
  {
   "cell_type": "code",
   "execution_count": 8,
   "metadata": {},
   "outputs": [
    {
     "name": "stdout",
     "output_type": "stream",
     "text": [
      "B/D\n",
      "D\n"
     ]
    },
    {
     "data": {
      "text/html": [
       "<h2>Output</h2>F:\\PyForGIS\\FinalProject\\BismarckSubWS\\Scratch\\soilsdissolved.shp<h2>Messages</h2>Start Time: Friday, December 11, 2020 12:56:28 PM<br/>Sorting Attributes...<br/>Dissolving...<br/>Succeeded at Friday, December 11, 2020 12:56:28 PM (Elapsed Time: 0.24 seconds)<br/><style>.rendered_html td, .rendered_html th {text-align: left;}.rendered_html tbody {border: 1px solid black;}</style>"
      ],
      "text/plain": [
       "<Result 'F:\\\\PyForGIS\\\\FinalProject\\\\BismarckSubWS\\\\Scratch\\\\soilsdissolved.shp'>"
      ]
     },
     "execution_count": 8,
     "metadata": {},
     "output_type": "execute_result"
    }
   ],
   "source": [
    "# For rows with two hydrologic soil groups, keep the most stringent\n",
    "with arcpy.da.UpdateCursor(in_table=soils, field_names=[hsg_field]) as cursor:\n",
    "    for row in cursor:\n",
    "        if len(row[0])>1:\n",
    "            print(row[0])\n",
    "            row[0] = str(row[0])[-1]\n",
    "            print(row[0])\n",
    "            cursor.updateRow(row)\n",
    "# Dissolve soils based on HSG\n",
    "arcpy.Dissolve_management(in_features=soils, out_feature_class=soils_dissolved, dissolve_field=hsg_field, multi_part=\"MULTI_PART\")"
   ]
  },
  {
   "cell_type": "markdown",
   "metadata": {},
   "source": [
    "# Intersect Soils, Landcover, and Subwatersheds"
   ]
  },
  {
   "cell_type": "code",
   "execution_count": 9,
   "metadata": {},
   "outputs": [
    {
     "data": {
      "text/html": [
       "<h2>Output</h2>F:\\PyForGIS\\FinalProject\\BismarckSubWS\\Scratch\\intwslc.shp<h2>Messages</h2>Start Time: Friday, December 11, 2020 12:56:34 PM<br/>Reading Features...<br/>Cracking Features...<br/>Assembling Features...<br/>Succeeded at Friday, December 11, 2020 12:56:34 PM (Elapsed Time: 0.18 seconds)<br/><style>.rendered_html td, .rendered_html th {text-align: left;}.rendered_html tbody {border: 1px solid black;}</style>"
      ],
      "text/plain": [
       "<Result 'F:\\\\PyForGIS\\\\FinalProject\\\\BismarckSubWS\\\\Scratch\\\\intwslc.shp'>"
      ]
     },
     "execution_count": 9,
     "metadata": {},
     "output_type": "execute_result"
    }
   ],
   "source": [
    "arcpy.Intersect_analysis(in_features=[subwatersheds, soils_dissolved], out_feature_class=intersected_catchments)\n",
    "arcpy.Intersect_analysis(in_features=[intersected_catchments, landcover], out_feature_class=intersected_catchments2)"
   ]
  },
  {
   "cell_type": "markdown",
   "metadata": {},
   "source": [
    "# Calculate curve number and impervious area for each intersection"
   ]
  },
  {
   "cell_type": "code",
   "execution_count": 10,
   "metadata": {},
   "outputs": [],
   "source": [
    "# Add percent impervious and curve number fields\n",
    "try: \n",
    "    arcpy.AddField_management(in_table=intersected_catchments2, field_name=cn_field, field_type=\"LONG\", field_precision=3)\n",
    "except:\n",
    "    print(\"CN field already present\")\n",
    "    arcpy.CalculateField_management(in_table=intersected_catchments2, field=cn_field, expression=\"0\", expression_type=\"PYTHON3\")\n",
    "try: \n",
    "    arcpy.AddField_management(in_table=intersected_catchments2, field_name=pimperv_field, field_type=\"LONG\", field_precision=3)\n",
    "except:\n",
    "    print(\"PImperv field already present\")\n",
    "    arcpy.CalculateField_management(in_table=intersected_catchments2, field=pimperv_field, expression=\"0\", expression_type=\"PYTHON3\")\n",
    "try: \n",
    "    arcpy.AddField_management(in_table=intersected_catchments2, field_name=impervarea_field, field_type=\"DOUBLE\", field_precision=15, field_scale=4)\n",
    "except:\n",
    "    print(\"PImpervArea field already present\")\n",
    "    arcpy.CalculateField_management(in_table=intersected_catchments2, field=impervarea_field, expression=\"0\", expression_type=\"PYTHON3\")\n",
    "# Add area field\n",
    "arcpy.AddGeometryAttributes_management(Input_Features=intersected_catchments2,Geometry_Properties=\"AREA\", Area_Unit=\"ACRES\")\n",
    "# Add weighted curve number field\n",
    "try: \n",
    "    arcpy.AddField_management(in_table=intersected_catchments2, field_name=cnarea_field, field_type=\"DOUBLE\", field_precision=15, field_scale=4)\n",
    "except:\n",
    "    print(\"CNArea field already present\")\n",
    "    arcpy.CalculateField_management(in_table=intersected_catchments2, field=cnarea_field, expression=\"0\", expression_type=\"PYTHON3\")"
   ]
  },
  {
   "cell_type": "code",
   "execution_count": 16,
   "metadata": {},
   "outputs": [
    {
     "name": "stdout",
     "output_type": "stream",
     "text": [
      "635.2872861293\n",
      "29.685403905675003\n",
      "677.33176263975\n",
      "157.1735093772\n",
      "41.890001251305\n",
      "20.537966606325\n",
      "82.59943008177001\n",
      "669.73538728876\n",
      "224.23410529804\n",
      "29.237228164396\n",
      "122.06026728284\n",
      "80.40921696572799\n",
      "7.960799766749999\n",
      "212.8710469742\n",
      "12.997943449764001\n",
      "4.8014347337907\n",
      "83.181995349948\n",
      "160.25390535658002\n",
      "15.434535373725002\n",
      "245.65698331049998\n",
      "123.28207754325\n",
      "166.30443373558\n",
      "50.900460555521995\n",
      "42.084432658479\n",
      "1.1553707126928\n",
      "139.04617063593\n",
      "18.907321925276\n",
      "49.958963919196\n",
      "114.4401547233\n",
      "200.84837767314\n",
      "106.99373920028\n",
      "141.76211035994\n",
      "53.554262400176\n",
      "9.4033210576\n",
      "64.029302799308\n",
      "0.031137566668466\n",
      "2.7953384617212\n",
      "110.2986875221\n",
      "3.7744603185836\n",
      "0.021636743602138\n",
      "312.8095113326\n",
      "0.36717861873336\n",
      "154.48158861982\n",
      "0.47064462325566003\n",
      "128.49824614099998\n",
      "294.0741017852\n",
      "115.14293269855\n",
      "172.23607254336002\n",
      "30.45654012348\n",
      "143.659192185\n",
      "20.611104654532\n",
      "62.373402752416006\n",
      "6.309004335377\n",
      "0.1754872620492\n",
      "55.355782575764\n",
      "0.056614420733205995\n",
      "11.175204303448\n",
      "12.46966660629\n",
      "61.90011473643\n",
      "0.012939686427104\n",
      "0.01195514506852\n",
      "0.027938886743160002\n",
      "0.027938886743160002\n"
     ]
    },
    {
     "data": {
      "text/plain": [
       "0"
      ]
     },
     "execution_count": 16,
     "metadata": {},
     "output_type": "execute_result"
    }
   ],
   "source": [
    "# Calculate curve number and impervious area\n",
    "with arcpy.da.UpdateCursor(in_table=intersected_catchments2, field_names=[lu_field, hsg_field, cn_field, pimperv_field, area_field, cnarea_field, impervarea_field]) as cursor:\n",
    "    for row in cursor:\n",
    "        for zone in cn_assignment:                \n",
    "            if row[0]==zone[0]:\n",
    "                if row[1]==\"B\":\n",
    "                    row[2]=zone[1]\n",
    "                elif row[1]==\"C\":\n",
    "                    row[2]=zone[2]\n",
    "                else:\n",
    "                    row[2]=zone[3]\n",
    "                row[3]=zone[4]\n",
    "                row[5]=row[4]*row[2]\n",
    "                row[6]=0.01*row[4]*row[3]\n",
    "                cursor.updateRow(row)\n",
    "                \n",
    "del cursor\n",
    "gc.collect()"
   ]
  },
  {
   "cell_type": "markdown",
   "metadata": {},
   "source": [
    "# Dissolve and calculate weighted CN and % Impervious"
   ]
  },
  {
   "cell_type": "code",
   "execution_count": 17,
   "metadata": {},
   "outputs": [
    {
     "data": {
      "text/html": [
       "<h2>Output</h2>F:\\PyForGIS\\FinalProject\\BismarckSubWS\\Scratch\\dissws.shp<h2>Messages</h2>Start Time: Friday, December 11, 2020 1:06:00 PM<br/>Succeeded at Friday, December 11, 2020 1:06:00 PM (Elapsed Time: 0.04 seconds)<br/><style>.rendered_html td, .rendered_html th {text-align: left;}.rendered_html tbody {border: 1px solid black;}</style>"
      ],
      "text/plain": [
       "<Result 'F:\\\\PyForGIS\\\\FinalProject\\\\BismarckSubWS\\\\Scratch\\\\dissws.shp'>"
      ]
     },
     "execution_count": 17,
     "metadata": {},
     "output_type": "execute_result"
    }
   ],
   "source": [
    "# Dissolve and sum area, impervious area, and curve number * area\n",
    "arcpy.Dissolve_management(in_features=intersected_catchments2,out_feature_class=dissolved_catchments, dissolve_field=[\"WSID\"],statistics_fields=[[cnarea_field, \"SUM\"], [impervarea_field, \"SUM\"], [area_field, \"SUM\"]])\n",
    "# Add total area, percent impervious, and weighted curve number fields\n",
    "try: \n",
    "    arcpy.AddField_management(in_table=dissolved_catchments, field_name=totalcn_field, field_type=\"LONG\", field_precision=3)\n",
    "except:\n",
    "    print(\"CN field already present\")\n",
    "    arcpy.CalculateField_management(in_table=dissolved_catchments, field=totalcn_field, expression=\"0\", expression_type=\"PYTHON3\")\n",
    "try: \n",
    "    arcpy.AddField_management(in_table=dissolved_catchments, field_name=totalpimperv_field, field_type=\"DOUBLE\", field_precision=5, field_scale=2)\n",
    "except:\n",
    "    print(\"%Impervious field already present\")\n",
    "    arcpy.CalculateField_management(in_table=dissolved_catchments, field=totalpimperv_field, expression=\"0\", expression_type=\"PYTHON3\")\n",
    "try: \n",
    "    arcpy.AddField_management(in_table=dissolved_catchments, field_name=totalarea_field, field_type=\"DOUBLE\", field_precision=15, field_scale=2)\n",
    "except:\n",
    "    print(\"Area field already present\")\n",
    "    arcpy.CalculateField_management(in_table=dissolved_catchments, field=totalarea_field, expression=\"0\", expression_type=\"PYTHON3\")\n",
    "\n",
    "arcpy.CalculateField_management(in_table=dissolved_catchments, field=totalarea_field, expression=\"!\"+sumpolyarea+\"!\", expression_type=\"PYTHON3\")\n",
    "arcpy.CalculateField_management(in_table=dissolved_catchments, field=totalcn_field, expression=\"round(!\"+sumcnarea+\"!/!\"+sumpolyarea+\"!,0)\", expression_type=\"PYTHON3\")\n",
    "arcpy.CalculateField_management(in_table=dissolved_catchments, field=totalpimperv_field, expression=\"(!\"+sumiparea+\"!/!\"+sumpolyarea+\"!)*100\", expression_type=\"PYTHON3\")"
   ]
  },
  {
   "cell_type": "markdown",
   "metadata": {},
   "source": [
    "# Join fields to final shapefile"
   ]
  },
  {
   "cell_type": "code",
   "execution_count": 18,
   "metadata": {},
   "outputs": [
    {
     "data": {
      "text/html": [
       "<h2>Output</h2>F:\\PyForGIS\\FinalProject\\BismarckSubWS\\subcatchments_cn.shp<h2>Messages</h2>Start Time: Friday, December 11, 2020 1:06:04 PM<br/>Succeeded at Friday, December 11, 2020 1:06:04 PM (Elapsed Time: 0.07 seconds)<br/><style>.rendered_html td, .rendered_html th {text-align: left;}.rendered_html tbody {border: 1px solid black;}</style>"
      ],
      "text/plain": [
       "<Result 'F:\\\\PyForGIS\\\\FinalProject\\\\BismarckSubWS\\\\subcatchments_cn.shp'>"
      ]
     },
     "execution_count": 18,
     "metadata": {},
     "output_type": "execute_result"
    }
   ],
   "source": [
    "arcpy.CopyFeatures_management(subwatersheds, output)\n",
    "arcpy.JoinField_management(in_data=output, in_field=\"WSID\", join_table=dissolved_catchments, join_field=\"WSID\", fields=[totalcn_field, totalpimperv_field, totalarea_field])"
   ]
  },
  {
   "cell_type": "markdown",
   "metadata": {},
   "source": [
    "# Delete intermediate files"
   ]
  },
  {
   "cell_type": "code",
   "execution_count": 19,
   "metadata": {},
   "outputs": [],
   "source": [
    "try:\n",
    "    shutil.rmtree(temp_folder)\n",
    "except:\n",
    "    print(\"Temporary storage not removed\")"
   ]
  },
  {
   "cell_type": "code",
   "execution_count": null,
   "metadata": {},
   "outputs": [],
   "source": []
  }
 ],
 "metadata": {
  "kernelspec": {
   "display_name": "Python 3",
   "language": "python",
   "name": "python3"
  },
  "language_info": {
   "codemirror_mode": {
    "name": "ipython",
    "version": 3
   },
   "file_extension": ".py",
   "mimetype": "text/x-python",
   "name": "python",
   "nbconvert_exporter": "python",
   "pygments_lexer": "ipython3",
   "version": "3.6.10"
  }
 },
 "nbformat": 4,
 "nbformat_minor": 4
}
